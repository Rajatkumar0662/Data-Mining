{
 "metadata": {
  "language_info": {
   "codemirror_mode": {
    "name": "ipython",
    "version": 3
   },
   "file_extension": ".py",
   "mimetype": "text/x-python",
   "name": "python",
   "nbconvert_exporter": "python",
   "pygments_lexer": "ipython3",
   "version": "3.7.9-final"
  },
  "orig_nbformat": 2,
  "kernelspec": {
   "name": "python3",
   "display_name": "Python 3"
  }
 },
 "nbformat": 4,
 "nbformat_minor": 2,
 "cells": [
  {
   "cell_type": "code",
   "execution_count": 1,
   "metadata": {},
   "outputs": [],
   "source": [
    "import numpy as np\n",
    "import pandas as pd\n",
    "import seaborn as sns\n",
    "import os"
   ]
  },
  {
   "cell_type": "code",
   "execution_count": 2,
   "metadata": {},
   "outputs": [],
   "source": [
    "# Reading out all the files to be examined ----------------------------------------------------------------\n",
    "Ratings = pd.read_csv('users-books-dataset/BX-Book-Ratings.csv', sep=';',encoding='latin-1')\n",
    "Users = pd.read_csv('users-books-dataset/BX-Users.csv', sep=';',encoding='latin-1')\n",
    "Books = pd.read_csv('users-books-dataset/BX-Books.csv', sep=';',encoding='latin-1',escapechar='\\\\')"
   ]
  },
  {
   "cell_type": "code",
   "execution_count": 3,
   "metadata": {},
   "outputs": [],
   "source": [
    "# Combining dataframes to get the new as a whole data sets\n",
    "# here we'll merge based on ISBN and User id and the type will be inner join.\n",
    "Result=(Ratings.merge(Books, on=['ISBN'])).merge(Users, on=['User-ID'])\n",
    "Result.set_index('ISBN', inplace=True)"
   ]
  },
  {
   "cell_type": "code",
   "execution_count": 4,
   "metadata": {},
   "outputs": [
    {
     "output_type": "execute_result",
     "data": {
      "text/plain": [
       "0"
      ]
     },
     "metadata": {},
     "execution_count": 4
    }
   ],
   "source": [
    "# Checking for duplicate values for all column values matching\n",
    "# if any duplicate found, then sum it.\n",
    "(Result.duplicated()==True).sum()"
   ]
  },
  {
   "cell_type": "code",
   "execution_count": 33,
   "metadata": {},
   "outputs": [
    {
     "output_type": "execute_result",
     "data": {
      "text/plain": [
       "User-ID                 True\n",
       "Book-Rating             True\n",
       "Book-Title              True\n",
       "Book-Author            False\n",
       "Year-Of-Publication     True\n",
       "Publisher              False\n",
       "Image-URL-S             True\n",
       "Image-URL-M             True\n",
       "Image-URL-L             True\n",
       "Location                True\n",
       "Age                     True\n",
       "dtype: bool"
      ]
     },
     "metadata": {},
     "execution_count": 33
    }
   ],
   "source": [
    "# Same for false value that is not duplicate\n",
    "# Or just confirming wheather the false count is same as the size of series\n",
    "\n",
    "# Comment either of below statement to get results either in boolean or in integer\n",
    "# ---------------------------------------------------------\n",
    "\n",
    "# (Result.duplicated()==False).sum()\n",
    "(Result.duplicated()==False).sum()==Result.count()"
   ]
  },
  {
   "cell_type": "code",
   "execution_count": 6,
   "metadata": {},
   "outputs": [
    {
     "output_type": "execute_result",
     "data": {
      "text/plain": [
       "2050"
      ]
     },
     "metadata": {},
     "execution_count": 6
    }
   ],
   "source": [
    "# check for inconsistency\n",
    "Result['Year-Of-Publication'].max()"
   ]
  },
  {
   "cell_type": "code",
   "execution_count": 7,
   "metadata": {},
   "outputs": [
    {
     "output_type": "execute_result",
     "data": {
      "text/plain": [
       "244.0"
      ]
     },
     "metadata": {},
     "execution_count": 7
    }
   ],
   "source": [
    "# check for inconsistency\n",
    "Result['Age'].max()"
   ]
  },
  {
   "cell_type": "code",
   "execution_count": 8,
   "metadata": {},
   "outputs": [
    {
     "output_type": "execute_result",
     "data": {
      "text/plain": [
       "            User-ID  Book-Rating  \\\n",
       "ISBN                               \n",
       "0380784548   153662            0   \n",
       "0679723692   127129            0   \n",
       "0786887435   178950            0   \n",
       "0671456105   129074            0   \n",
       "1550821733    44297            0   \n",
       "0843943491   212965            5   \n",
       "0802430481   208099            5   \n",
       "0373512120   172030            0   \n",
       "2207303012   201365            0   \n",
       "0874060079   216683            0   \n",
       "\n",
       "                                                   Book-Title  \\\n",
       "ISBN                                                            \n",
       "0380784548                               Valley of the Shadow   \n",
       "0679723692     Cathedral (Vintage Contemporaries (Paperback))   \n",
       "0786887435  The Life Strategies Self-Discovery Journal: Fi...   \n",
       "0671456105   Star Trek II The Wrath of Kahn (Star Trek, No 7)   \n",
       "1550821733                        Prosody at the Cafe Du Coin   \n",
       "0843943491                               Savage Heat (Savage)   \n",
       "0802430481                    How to Get Kids to Help at Home   \n",
       "0373512120                  Wolf In Waiting (Reader's Choice)   \n",
       "2207303012        Jusqu'Ã?Â  la quatriÃ?Â¨me gÃ?Â©nÃ?Â©ration   \n",
       "0874060079                                 Six Months to Live   \n",
       "\n",
       "                            Book-Author  Year-Of-Publication  \\\n",
       "ISBN                                                           \n",
       "0380784548             Charlotte Hughes                 1998   \n",
       "0679723692               Raymond Carver                 1989   \n",
       "0786887435            Phillip C. McGraw                 2001   \n",
       "0671456105  Vonda N. McIntyre (Adapter)                 1982   \n",
       "1550821733                    Jeff Bien                 1996   \n",
       "0843943491               Cassie Edwards                 1998   \n",
       "0802430481                   Elva Anson                 1989   \n",
       "0373512120             Rebecca Flanders                 2002   \n",
       "2207303012                 Isaac Asimov                 1986   \n",
       "0874060079                     McDaniel                 1985   \n",
       "\n",
       "                         Publisher  \\\n",
       "ISBN                                 \n",
       "0380784548                    Avon   \n",
       "0679723692       Vintage Books USA   \n",
       "0786887435          Hyperion Press   \n",
       "0671456105               Star Trek   \n",
       "1550821733            Quarry Press   \n",
       "0843943491           Leisure Books   \n",
       "0802430481                Moody Pr   \n",
       "0373512120              Silhouette   \n",
       "2207303012               DenoÃ?Â«l   \n",
       "0874060079  Pages Publishing Group   \n",
       "\n",
       "                                                  Image-URL-S  \\\n",
       "ISBN                                                            \n",
       "0380784548  http://images.amazon.com/images/P/0380784548.0...   \n",
       "0679723692  http://images.amazon.com/images/P/0679723692.0...   \n",
       "0786887435  http://images.amazon.com/images/P/0786887435.0...   \n",
       "0671456105  http://images.amazon.com/images/P/0671456105.0...   \n",
       "1550821733  http://images.amazon.com/images/P/1550821733.0...   \n",
       "0843943491  http://images.amazon.com/images/P/0843943491.0...   \n",
       "0802430481  http://images.amazon.com/images/P/0802430481.0...   \n",
       "0373512120  http://images.amazon.com/images/P/0373512120.0...   \n",
       "2207303012  http://images.amazon.com/images/P/2207303012.0...   \n",
       "0874060079  http://images.amazon.com/images/P/0874060079.0...   \n",
       "\n",
       "                                                  Image-URL-M  \\\n",
       "ISBN                                                            \n",
       "0380784548  http://images.amazon.com/images/P/0380784548.0...   \n",
       "0679723692  http://images.amazon.com/images/P/0679723692.0...   \n",
       "0786887435  http://images.amazon.com/images/P/0786887435.0...   \n",
       "0671456105  http://images.amazon.com/images/P/0671456105.0...   \n",
       "1550821733  http://images.amazon.com/images/P/1550821733.0...   \n",
       "0843943491  http://images.amazon.com/images/P/0843943491.0...   \n",
       "0802430481  http://images.amazon.com/images/P/0802430481.0...   \n",
       "0373512120  http://images.amazon.com/images/P/0373512120.0...   \n",
       "2207303012  http://images.amazon.com/images/P/2207303012.0...   \n",
       "0874060079  http://images.amazon.com/images/P/0874060079.0...   \n",
       "\n",
       "                                                  Image-URL-L  \\\n",
       "ISBN                                                            \n",
       "0380784548  http://images.amazon.com/images/P/0380784548.0...   \n",
       "0679723692  http://images.amazon.com/images/P/0679723692.0...   \n",
       "0786887435  http://images.amazon.com/images/P/0786887435.0...   \n",
       "0671456105  http://images.amazon.com/images/P/0671456105.0...   \n",
       "1550821733  http://images.amazon.com/images/P/1550821733.0...   \n",
       "0843943491  http://images.amazon.com/images/P/0843943491.0...   \n",
       "0802430481  http://images.amazon.com/images/P/0802430481.0...   \n",
       "0373512120  http://images.amazon.com/images/P/0373512120.0...   \n",
       "2207303012  http://images.amazon.com/images/P/2207303012.0...   \n",
       "0874060079  http://images.amazon.com/images/P/0874060079.0...   \n",
       "\n",
       "                                         Location   Age  \n",
       "ISBN                                                     \n",
       "0380784548              ft. stewart, georgia, usa  44.0  \n",
       "0679723692      langley, british columbia, canada   NaN  \n",
       "0786887435                  orlando, florida, usa   NaN  \n",
       "0671456105                 marietta, georgia, usa  51.0  \n",
       "1550821733  christchurch, canterbury, new zealand  22.0  \n",
       "0843943491                      akron,, ohio, usa  43.0  \n",
       "0802430481             skamokawa, washington, usa  36.0  \n",
       "0373512120               rainsville, alabama, usa  30.0  \n",
       "2207303012                       n/a, n/a, france  50.0  \n",
       "0874060079              san jose, california, usa   NaN  "
      ],
      "text/html": "<div>\n<style scoped>\n    .dataframe tbody tr th:only-of-type {\n        vertical-align: middle;\n    }\n\n    .dataframe tbody tr th {\n        vertical-align: top;\n    }\n\n    .dataframe thead th {\n        text-align: right;\n    }\n</style>\n<table border=\"1\" class=\"dataframe\">\n  <thead>\n    <tr style=\"text-align: right;\">\n      <th></th>\n      <th>User-ID</th>\n      <th>Book-Rating</th>\n      <th>Book-Title</th>\n      <th>Book-Author</th>\n      <th>Year-Of-Publication</th>\n      <th>Publisher</th>\n      <th>Image-URL-S</th>\n      <th>Image-URL-M</th>\n      <th>Image-URL-L</th>\n      <th>Location</th>\n      <th>Age</th>\n    </tr>\n    <tr>\n      <th>ISBN</th>\n      <th></th>\n      <th></th>\n      <th></th>\n      <th></th>\n      <th></th>\n      <th></th>\n      <th></th>\n      <th></th>\n      <th></th>\n      <th></th>\n      <th></th>\n    </tr>\n  </thead>\n  <tbody>\n    <tr>\n      <th>0380784548</th>\n      <td>153662</td>\n      <td>0</td>\n      <td>Valley of the Shadow</td>\n      <td>Charlotte Hughes</td>\n      <td>1998</td>\n      <td>Avon</td>\n      <td>http://images.amazon.com/images/P/0380784548.0...</td>\n      <td>http://images.amazon.com/images/P/0380784548.0...</td>\n      <td>http://images.amazon.com/images/P/0380784548.0...</td>\n      <td>ft. stewart, georgia, usa</td>\n      <td>44.0</td>\n    </tr>\n    <tr>\n      <th>0679723692</th>\n      <td>127129</td>\n      <td>0</td>\n      <td>Cathedral (Vintage Contemporaries (Paperback))</td>\n      <td>Raymond Carver</td>\n      <td>1989</td>\n      <td>Vintage Books USA</td>\n      <td>http://images.amazon.com/images/P/0679723692.0...</td>\n      <td>http://images.amazon.com/images/P/0679723692.0...</td>\n      <td>http://images.amazon.com/images/P/0679723692.0...</td>\n      <td>langley, british columbia, canada</td>\n      <td>NaN</td>\n    </tr>\n    <tr>\n      <th>0786887435</th>\n      <td>178950</td>\n      <td>0</td>\n      <td>The Life Strategies Self-Discovery Journal: Fi...</td>\n      <td>Phillip C. McGraw</td>\n      <td>2001</td>\n      <td>Hyperion Press</td>\n      <td>http://images.amazon.com/images/P/0786887435.0...</td>\n      <td>http://images.amazon.com/images/P/0786887435.0...</td>\n      <td>http://images.amazon.com/images/P/0786887435.0...</td>\n      <td>orlando, florida, usa</td>\n      <td>NaN</td>\n    </tr>\n    <tr>\n      <th>0671456105</th>\n      <td>129074</td>\n      <td>0</td>\n      <td>Star Trek II The Wrath of Kahn (Star Trek, No 7)</td>\n      <td>Vonda N. McIntyre (Adapter)</td>\n      <td>1982</td>\n      <td>Star Trek</td>\n      <td>http://images.amazon.com/images/P/0671456105.0...</td>\n      <td>http://images.amazon.com/images/P/0671456105.0...</td>\n      <td>http://images.amazon.com/images/P/0671456105.0...</td>\n      <td>marietta, georgia, usa</td>\n      <td>51.0</td>\n    </tr>\n    <tr>\n      <th>1550821733</th>\n      <td>44297</td>\n      <td>0</td>\n      <td>Prosody at the Cafe Du Coin</td>\n      <td>Jeff Bien</td>\n      <td>1996</td>\n      <td>Quarry Press</td>\n      <td>http://images.amazon.com/images/P/1550821733.0...</td>\n      <td>http://images.amazon.com/images/P/1550821733.0...</td>\n      <td>http://images.amazon.com/images/P/1550821733.0...</td>\n      <td>christchurch, canterbury, new zealand</td>\n      <td>22.0</td>\n    </tr>\n    <tr>\n      <th>0843943491</th>\n      <td>212965</td>\n      <td>5</td>\n      <td>Savage Heat (Savage)</td>\n      <td>Cassie Edwards</td>\n      <td>1998</td>\n      <td>Leisure Books</td>\n      <td>http://images.amazon.com/images/P/0843943491.0...</td>\n      <td>http://images.amazon.com/images/P/0843943491.0...</td>\n      <td>http://images.amazon.com/images/P/0843943491.0...</td>\n      <td>akron,, ohio, usa</td>\n      <td>43.0</td>\n    </tr>\n    <tr>\n      <th>0802430481</th>\n      <td>208099</td>\n      <td>5</td>\n      <td>How to Get Kids to Help at Home</td>\n      <td>Elva Anson</td>\n      <td>1989</td>\n      <td>Moody Pr</td>\n      <td>http://images.amazon.com/images/P/0802430481.0...</td>\n      <td>http://images.amazon.com/images/P/0802430481.0...</td>\n      <td>http://images.amazon.com/images/P/0802430481.0...</td>\n      <td>skamokawa, washington, usa</td>\n      <td>36.0</td>\n    </tr>\n    <tr>\n      <th>0373512120</th>\n      <td>172030</td>\n      <td>0</td>\n      <td>Wolf In Waiting (Reader's Choice)</td>\n      <td>Rebecca Flanders</td>\n      <td>2002</td>\n      <td>Silhouette</td>\n      <td>http://images.amazon.com/images/P/0373512120.0...</td>\n      <td>http://images.amazon.com/images/P/0373512120.0...</td>\n      <td>http://images.amazon.com/images/P/0373512120.0...</td>\n      <td>rainsville, alabama, usa</td>\n      <td>30.0</td>\n    </tr>\n    <tr>\n      <th>2207303012</th>\n      <td>201365</td>\n      <td>0</td>\n      <td>Jusqu'Ã?Â  la quatriÃ?Â¨me gÃ?Â©nÃ?Â©ration</td>\n      <td>Isaac Asimov</td>\n      <td>1986</td>\n      <td>DenoÃ?Â«l</td>\n      <td>http://images.amazon.com/images/P/2207303012.0...</td>\n      <td>http://images.amazon.com/images/P/2207303012.0...</td>\n      <td>http://images.amazon.com/images/P/2207303012.0...</td>\n      <td>n/a, n/a, france</td>\n      <td>50.0</td>\n    </tr>\n    <tr>\n      <th>0874060079</th>\n      <td>216683</td>\n      <td>0</td>\n      <td>Six Months to Live</td>\n      <td>McDaniel</td>\n      <td>1985</td>\n      <td>Pages Publishing Group</td>\n      <td>http://images.amazon.com/images/P/0874060079.0...</td>\n      <td>http://images.amazon.com/images/P/0874060079.0...</td>\n      <td>http://images.amazon.com/images/P/0874060079.0...</td>\n      <td>san jose, california, usa</td>\n      <td>NaN</td>\n    </tr>\n  </tbody>\n</table>\n</div>"
     },
     "metadata": {},
     "execution_count": 8
    }
   ],
   "source": [
    "# Now we'll check for inconsistent datas \n",
    "# For that we need sample of some 10 items to interpret our assumptions\n",
    "Result.sample(10)"
   ]
  },
  {
   "cell_type": "code",
   "execution_count": 24,
   "metadata": {},
   "outputs": [],
   "source": [
    "# Limit values by providing constraints\n",
    "age_Limit = [18, 80]\n",
    "year = [1900, 2020]\n",
    "Result.drop(Result[Result['Age'] > age_Limit[1]].index, inplace=True)\n",
    "Result.drop(Result[Result['Age'] < age_Limit[0]].index, inplace=True)\n",
    "Result.drop(Result[Result['Year-Of-Publication'] < year[0]].index, inplace=True)\n",
    "Result.drop(Result[Result['Year-Of-Publication'] > year[1]].index, inplace=True)"
   ]
  },
  {
   "cell_type": "code",
   "execution_count": 34,
   "metadata": {},
   "outputs": [
    {
     "output_type": "execute_result",
     "data": {
      "text/plain": [
       "1900"
      ]
     },
     "metadata": {},
     "execution_count": 34
    }
   ],
   "source": [
    "# check value to assure its legit\n",
    "# comment either of them to get results\n",
    "# -------------------------------------------------------\n",
    "\n",
    "Result['Year-Of-Publication'].min()\n",
    "Result['Year-Of-Publication'].max()\n"
   ]
  },
  {
   "cell_type": "code",
   "execution_count": 11,
   "metadata": {},
   "outputs": [
    {
     "output_type": "execute_result",
     "data": {
      "text/plain": [
       "80.0"
      ]
     },
     "metadata": {},
     "execution_count": 11
    }
   ],
   "source": [
    "# check value to assure its legit\n",
    "# comment either of them to get results\n",
    "# -------------------------------------------------------\n",
    "\n",
    "Result['Age'].max()\n",
    "Result['Age'].min()"
   ]
  },
  {
   "cell_type": "code",
   "execution_count": 12,
   "metadata": {},
   "outputs": [],
   "source": [
    "# Finding missing values and identifying outliers"
   ]
  },
  {
   "cell_type": "code",
   "execution_count": 26,
   "metadata": {},
   "outputs": [
    {
     "output_type": "execute_result",
     "data": {
      "text/plain": [
       "User-ID                0\n",
       "Book-Rating            0\n",
       "Book-Title             0\n",
       "Book-Author            1\n",
       "Year-Of-Publication    0\n",
       "Publisher              2\n",
       "Image-URL-S            0\n",
       "Image-URL-M            0\n",
       "Image-URL-L            0\n",
       "Location               0\n",
       "Age                    0\n",
       "dtype: int64"
      ]
     },
     "metadata": {},
     "execution_count": 26
    }
   ],
   "source": [
    "(Result[:].isnull()==True).sum()"
   ]
  },
  {
   "cell_type": "code",
   "execution_count": 21,
   "metadata": {},
   "outputs": [],
   "source": [
    "Result['Age'].interpolate(inplace=True)"
   ]
  },
  {
   "cell_type": "code",
   "execution_count": 27,
   "metadata": {},
   "outputs": [
    {
     "output_type": "execute_result",
     "data": {
      "text/plain": [
       "User-ID                0\n",
       "Book-Rating            0\n",
       "Book-Title             0\n",
       "Book-Author            1\n",
       "Year-Of-Publication    0\n",
       "Publisher              2\n",
       "Image-URL-S            0\n",
       "Image-URL-M            0\n",
       "Image-URL-L            0\n",
       "Location               0\n",
       "Age                    0\n",
       "dtype: int64"
      ]
     },
     "metadata": {},
     "execution_count": 27
    }
   ],
   "source": [
    "(Result[:].isnull()==True).sum()"
   ]
  },
  {
   "cell_type": "code",
   "execution_count": null,
   "metadata": {},
   "outputs": [],
   "source": []
  }
 ]
}